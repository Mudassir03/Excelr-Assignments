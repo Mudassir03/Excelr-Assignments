{
  "cells": [
    {
      "cell_type": "markdown",
      "metadata": {
        "id": "QpmX7y_xck_7"
      },
      "source": [
        "## Exercise 1: Prime Numbers"
      ]
    },
    {
      "cell_type": "code",
      "execution_count": 18,
      "metadata": {
        "id": "IDxC_Ze7Tg_8",
        "colab": {
          "base_uri": "https://localhost:8080/"
        },
        "outputId": "c1f9a053-bdab-4b8d-e99e-4adbf0bfd398"
      },
      "outputs": [
        {
          "output_type": "stream",
          "name": "stdout",
          "text": [
            "Enter a number: 9767447945\n",
            "9767447945 is not a prime number\n"
          ]
        }
      ],
      "source": [
        "num=int(input(\"Enter a number: \"))\n",
        "\n",
        "if num==1:\n",
        "  print(\"1 is neither prime nor composite\")\n",
        "\n",
        "elif num>1:\n",
        "  for i in range(2,num):\n",
        "    if (num%i)==0:\n",
        "      print(num,\"is not a prime number\")\n",
        "      break\n",
        "  else:\n",
        "    print(num,\"is a prime number\")\n",
        "\n",
        "\n",
        "\n"
      ]
    },
    {
      "cell_type": "markdown",
      "metadata": {
        "id": "-QAD_K0NcF94"
      },
      "source": [
        "## Exercise 2: Product of Random"
      ]
    },
    {
      "cell_type": "code",
      "execution_count": null,
      "metadata": {
        "colab": {
          "base_uri": "https://localhost:8080/"
        },
        "id": "KJqvIV0dXLus",
        "outputId": "50cd03b2-08d8-47c8-fe1e-8b2678ebbf76"
      },
      "outputs": [
        {
          "name": "stdout",
          "output_type": "stream",
          "text": [
            "What is the product of  8  and  9\n",
            "Type your answer here: 72\n",
            "72 is the correct ans\n"
          ]
        }
      ],
      "source": [
        "import random\n",
        "randomA = random.randint(0, 10)\n",
        "randomB = random.randint(0, 10)\n",
        "print(\"What is the product of \",randomA,\" and \",randomB)\n",
        "\n",
        "inpt = int(input(\"Type your answer here: \"))\n",
        "\n",
        "if inpt==randomA*randomB:\n",
        "    print(inpt, \"is the correct ans\")\n",
        "else:\n",
        "    print(inpt, \" is wrong, \", randomA*randomB, \"is the correct ans\")\n"
      ]
    },
    {
      "cell_type": "markdown",
      "metadata": {
        "id": "oy6wqz-adAWf"
      },
      "source": [
        "## Exercise 3: Squares of Even/Odd Numbers"
      ]
    },
    {
      "cell_type": "code",
      "execution_count": 5,
      "metadata": {
        "colab": {
          "base_uri": "https://localhost:8080/"
        },
        "id": "I2J-w3S6c46s",
        "outputId": "3a5e7d5c-4123-45a2-be30-c74671ca5442"
      },
      "outputs": [
        {
          "output_type": "stream",
          "name": "stdout",
          "text": [
            "Squares of Even Numbers lies between 100 to 200\n",
            "[10000, 10404, 10816, 11236, 11664, 12100, 12544, 12996, 13456, 13924, 14400, 14884, 15376, 15876, 16384, 16900, 17424, 17956, 18496, 19044, 19600, 20164, 20736, 21316, 21904, 22500, 23104, 23716, 24336, 24964, 25600, 26244, 26896, 27556, 28224, 28900, 29584, 30276, 30976, 31684, 32400, 33124, 33856, 34596, 35344, 36100, 36864, 37636, 38416, 39204, 40000]\n"
          ]
        }
      ],
      "source": [
        "sqr=[]\n",
        "for number in range(100,201):\n",
        "  if number%2==0:\n",
        "   sqr.append(number**2)\n",
        "print(\"Squares of Even Numbers lies between 100 to 200\")\n",
        "print(sqr)\n",
        "\n"
      ]
    },
    {
      "cell_type": "markdown",
      "source": [
        "## Exercise 4: Word counter"
      ],
      "metadata": {
        "id": "D9-EYOkEAh8D"
      }
    },
    {
      "cell_type": "code",
      "source": [
        "input_text = input(\"Enter a sentence: \")\n",
        "words = input_text.split()\n",
        "words\n",
        "word_count = {}\n",
        "for word in words:\n",
        "    if word in word_count:\n",
        "        word_count[word] += 1\n",
        "    else:\n",
        "        word_count[word] = 1\n",
        "print(word_count)"
      ],
      "metadata": {
        "colab": {
          "base_uri": "https://localhost:8080/"
        },
        "id": "2ZKVgwIYArqo",
        "outputId": "94df8b53-9508-44c0-b06c-5a5d8c687b45"
      },
      "execution_count": 32,
      "outputs": [
        {
          "output_type": "stream",
          "name": "stdout",
          "text": [
            "Enter a text: This is a sample text. This text will be used to demonstrate the word counter.\n",
            "{'This': 2, 'is': 1, 'a': 1, 'sample': 1, 'text.': 1, 'text': 1, 'will': 1, 'be': 1, 'used': 1, 'to': 1, 'demonstrate': 1, 'the': 1, 'word': 1, 'counter.': 1}\n"
          ]
        }
      ]
    },
    {
      "cell_type": "markdown",
      "source": [
        "## Exercise 5: Check for Palindrome"
      ],
      "metadata": {
        "id": "IcZS9td8HGdv"
      }
    },
    {
      "cell_type": "code",
      "source": [
        "s = input(\"Enter a string: \")\n",
        "def is_palindrome(s):\n",
        "\n",
        "\n",
        "    s = ''.join(char.lower() for char in s if char.isalnum())\n",
        "\n",
        "    return s == s[::-1]\n",
        "\n",
        "print(is_palindrome(s))"
      ],
      "metadata": {
        "colab": {
          "base_uri": "https://localhost:8080/"
        },
        "id": "UwNVLEXMHMbM",
        "outputId": "87c3a515-f533-4c01-d879-12805e330520"
      },
      "execution_count": 37,
      "outputs": [
        {
          "output_type": "stream",
          "name": "stdout",
          "text": [
            "Enter a string: Rar\n",
            "True\n"
          ]
        }
      ]
    }
  ],
  "metadata": {
    "colab": {
      "collapsed_sections": [
        "QpmX7y_xck_7"
      ],
      "provenance": []
    },
    "kernelspec": {
      "display_name": "Python 3",
      "name": "python3"
    },
    "language_info": {
      "name": "python"
    }
  },
  "nbformat": 4,
  "nbformat_minor": 0
}