{
  "nbformat": 4,
  "nbformat_minor": 0,
  "metadata": {
    "colab": {
      "provenance": []
    },
    "kernelspec": {
      "name": "python3",
      "display_name": "Python 3"
    },
    "language_info": {
      "name": "python"
    }
  },
  "cells": [
    {
      "cell_type": "markdown",
      "source": [
        "## a. Build 99% Confidence Interval Using Sample Standard Deviation\n",
        "\n",
        "\n",
        "* when we don't know the population standard deviation we have to use t distribution to find confidence interval.\n",
        "\n",
        "\n"
      ],
      "metadata": {
        "id": "gGdH1Y1UZuc_"
      }
    },
    {
      "cell_type": "code",
      "source": [
        "import numpy as np\n",
        "import pandas as pd\n",
        "from scipy import stats\n",
        "\n",
        "\n",
        "sample=[1.13, 1.55, 1.43, 0.92, 1.25, 1.36, 1.32, 0.85, 1.07, 1.48, 1.20, 1.33, 1.18, 1.22, 1.29]\n",
        "\n",
        "s_mean=np.mean(sample)\n",
        "s_std=np.std(sample, ddof=1)\n",
        "n=len(sample)\n",
        "sqr_n=np.sqrt(n)\n",
        "t_score=stats.t.ppf(0.995,df=n-1)\n",
        "\n",
        "upper_ci=s_mean + t_score *(s_std/sqr_n)\n",
        "lower_ci=s_mean - t_score *(s_std/sqr_n)\n",
        "\n",
        "print(\"conclusion: I am 99% confident that the mean number of characters printed before the print-head fails is lies between {:.4f} to {:.4f} millions.\".format(lower_ci, upper_ci))\n"
      ],
      "metadata": {
        "colab": {
          "base_uri": "https://localhost:8080/"
        },
        "id": "-P7o4sTfwlQ5",
        "outputId": "cf71d175-426b-4302-8a4d-691b37612f4f"
      },
      "execution_count": 11,
      "outputs": [
        {
          "output_type": "stream",
          "name": "stdout",
          "text": [
            "conclusion: I am 99% confident that the mean number of characters printed before the print-head fails is lies between 1.0902 to 1.3871 millions.\n"
          ]
        }
      ]
    },
    {
      "cell_type": "markdown",
      "source": [
        "## b. Build 99% Confidence Interval Using Known Population Standard Deviation\n",
        "\n",
        "\n",
        "*   As in this situation we have population standard deviation so we can use z distribution to find confidence interval.\n",
        "\n",
        "\n"
      ],
      "metadata": {
        "id": "PaV4Tal-1jsb"
      }
    },
    {
      "cell_type": "code",
      "source": [
        "p_std=0.2\n",
        "\n",
        "z_score=stats.norm.ppf(0.995)\n",
        "\n",
        "Pupper_ci=s_mean + z_score *(p_std/sqr_n)\n",
        "Plower_ci=s_mean - z_score *(p_std/sqr_n)\n",
        "\n",
        "print(\"conclusion: I am 99% confident that the mean number of characters printed before the print-head fails is lies between {:.4f} to {:.4f} millions.\".format(Plower_ci, Pupper_ci))\n",
        "\n"
      ],
      "metadata": {
        "colab": {
          "base_uri": "https://localhost:8080/"
        },
        "id": "yti-KkCFz-N6",
        "outputId": "9a00b036-7837-429a-a0c3-b9888a0630c3"
      },
      "execution_count": 13,
      "outputs": [
        {
          "output_type": "stream",
          "name": "stdout",
          "text": [
            "conclusion: I am 99% confident that the mean number of characters printed before the print-head fails is lies between 1.1057 to 1.3717 millions.\n"
          ]
        }
      ]
    },
    {
      "cell_type": "code",
      "source": [],
      "metadata": {
        "id": "HHCXbR3U3dY9"
      },
      "execution_count": 4,
      "outputs": []
    },
    {
      "cell_type": "code",
      "source": [],
      "metadata": {
        "id": "jA26eIbC8prM"
      },
      "execution_count": null,
      "outputs": []
    }
  ]
}